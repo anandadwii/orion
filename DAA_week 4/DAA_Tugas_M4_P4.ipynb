{
 "cells": [
  {
   "cell_type": "markdown",
   "metadata": {},
   "source": [
    "## selection sort\n",
    "89 12 57 16 25\n"
   ]
  },
  {
   "cell_type": "code",
   "execution_count": 13,
   "metadata": {},
   "outputs": [],
   "source": [
    "def SelectionSort(list):\n",
    "    for fill_slot in range(len(list)-1, 0, -1):\n",
    "        max_index=0\n",
    "        for location in range(1, fill_slot+1):\n",
    "            if list[location]>list[max_index]:\n",
    "                max_index=location\n",
    "        list[fill_slot],list[max_index]=list[max_index],list[fill_slot]\n",
    "        print(list)\n",
    "    return list"
   ]
  },
  {
   "cell_type": "code",
   "execution_count": 14,
   "metadata": {},
   "outputs": [
    {
     "name": "stdout",
     "output_type": "stream",
     "text": [
      "[25, 12, 57, 16, 89]\n",
      "[25, 12, 16, 57, 89]\n",
      "[16, 12, 25, 57, 89]\n",
      "[12, 16, 25, 57, 89]\n"
     ]
    },
    {
     "data": {
      "text/plain": [
       "[12, 16, 25, 57, 89]"
      ]
     },
     "execution_count": 14,
     "metadata": {},
     "output_type": "execute_result"
    }
   ],
   "source": [
    "list=[89,12,57,16,25]\n",
    "SelectionSort(list)"
   ]
  },
  {
   "cell_type": "markdown",
   "metadata": {},
   "source": [
    "## insertion sort\n",
    "89 12 57 16 25 11 75"
   ]
  },
  {
   "cell_type": "code",
   "execution_count": 15,
   "metadata": {},
   "outputs": [],
   "source": [
    "def InsertionSort(list):\n",
    "    for i in range(1,len(list)):\n",
    "        j=i-1\n",
    "        next = list[i]\n",
    "#compare \n",
    "        while (list[j]>next) and (j>= 0):\n",
    "            list[j+1]=list[j]\n",
    "            j=j-1\n",
    "        list[j+1]=next\n",
    "        print(list)\n",
    "    return list"
   ]
  },
  {
   "cell_type": "code",
   "execution_count": 16,
   "metadata": {},
   "outputs": [
    {
     "name": "stdout",
     "output_type": "stream",
     "text": [
      "[12, 89, 16, 25, 11, 75]\n",
      "[12, 16, 89, 25, 11, 75]\n",
      "[12, 16, 25, 89, 11, 75]\n",
      "[11, 12, 16, 25, 89, 75]\n",
      "[11, 12, 16, 25, 75, 89]\n"
     ]
    },
    {
     "data": {
      "text/plain": [
       "[11, 12, 16, 25, 75, 89]"
      ]
     },
     "execution_count": 16,
     "metadata": {},
     "output_type": "execute_result"
    }
   ],
   "source": [
    "list=[89,12,16,25,11,75]\n",
    "InsertionSort(list)"
   ]
  },
  {
   "cell_type": "code",
   "execution_count": null,
   "metadata": {},
   "outputs": [],
   "source": []
  }
 ],
 "metadata": {
  "kernelspec": {
   "display_name": "Python 3",
   "language": "python",
   "name": "python3"
  },
  "language_info": {
   "codemirror_mode": {
    "name": "ipython",
    "version": 3
   },
   "file_extension": ".py",
   "mimetype": "text/x-python",
   "name": "python",
   "nbconvert_exporter": "python",
   "pygments_lexer": "ipython3",
   "version": "3.7.3"
  }
 },
 "nbformat": 4,
 "nbformat_minor": 2
}
