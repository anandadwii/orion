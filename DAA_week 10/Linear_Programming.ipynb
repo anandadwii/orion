{
 "cells": [
  {
   "cell_type": "markdown",
   "metadata": {},
   "source": [
    "### Menggunakan PuLP"
   ]
  },
  {
   "cell_type": "code",
   "execution_count": 49,
   "metadata": {},
   "outputs": [],
   "source": [
    "import pulp\n"
   ]
  },
  {
   "cell_type": "code",
   "execution_count": 50,
   "metadata": {},
   "outputs": [],
   "source": [
    "#instantiation problem class\n",
    "model = pulp.LpProblem(\"ProfitMaximisingProblem\", pulp.LpMaximize)\n"
   ]
  },
  {
   "cell_type": "code",
   "execution_count": 51,
   "metadata": {},
   "outputs": [],
   "source": [
    "A = pulp.LpVariable('A',lowBound=0,cat=\"Integer\")\n",
    "B = pulp.LpVariable('B',lowBound=0,cat=\"Integer\")\n"
   ]
  },
  {
   "cell_type": "code",
   "execution_count": 57,
   "metadata": {},
   "outputs": [
    {
     "data": {
      "text/plain": [
       "ProfitMaximisingProblem:\n",
       "MAXIMIZE\n",
       "4200*A + 2800*B + 0\n",
       "SUBJECT TO\n",
       "_C1: 3 A + 2 B <= 20\n",
       "\n",
       "_C2: 4 A + 3 B <= 30\n",
       "\n",
       "_C3: 4 A + 3 B <= 44\n",
       "\n",
       "_C4: 3 A + 2 B <= 20\n",
       "\n",
       "_C5: 4 A + 3 B <= 30\n",
       "\n",
       "_C6: 4 A + 3 B <= 44\n",
       "\n",
       "VARIABLES\n",
       "0 <= A Integer\n",
       "0 <= B Integer"
      ]
     },
     "execution_count": 57,
     "metadata": {},
     "output_type": "execute_result"
    }
   ],
   "source": [
    "#objective function\n",
    "model += 4200*A+2800*B, \"Profit\"\n",
    "#constrains\n",
    "model += 3*A+2*B <=20\n",
    "model += 4*A+3*B <=30\n",
    "model += 4*A+3*B <=44\n",
    "model"
   ]
  },
  {
   "cell_type": "code",
   "execution_count": 53,
   "metadata": {},
   "outputs": [
    {
     "data": {
      "text/plain": [
       "'Optimal'"
      ]
     },
     "execution_count": 53,
     "metadata": {},
     "output_type": "execute_result"
    }
   ],
   "source": [
    "#solve problem\n",
    "model.solve()\n",
    "pulp.LpStatus[model.status]"
   ]
  },
  {
   "cell_type": "code",
   "execution_count": 54,
   "metadata": {},
   "outputs": [
    {
     "name": "stdout",
     "output_type": "stream",
     "text": [
      "6.0\n"
     ]
    }
   ],
   "source": [
    "print(A.varValue)"
   ]
  },
  {
   "cell_type": "code",
   "execution_count": 55,
   "metadata": {},
   "outputs": [
    {
     "name": "stdout",
     "output_type": "stream",
     "text": [
      "1.0\n"
     ]
    }
   ],
   "source": [
    "print(B.varValue)"
   ]
  },
  {
   "cell_type": "code",
   "execution_count": 56,
   "metadata": {},
   "outputs": [
    {
     "name": "stdout",
     "output_type": "stream",
     "text": [
      "28000.0\n"
     ]
    }
   ],
   "source": [
    "print(pulp.value(model.objective))"
   ]
  },
  {
   "cell_type": "markdown",
   "metadata": {},
   "source": [
    "### Menggunakan sciPy\n"
   ]
  },
  {
   "cell_type": "markdown",
   "metadata": {},
   "source": [
    "A + 0B <=19\n",
    "2A + 3B <= 19\n",
    "A + B <=8\n",
    "\n",
    "A,B>=0\n",
    "dimana z = 5A + 7B"
   ]
  },
  {
   "cell_type": "code",
   "execution_count": 71,
   "metadata": {},
   "outputs": [],
   "source": [
    "import numpy as np\n",
    "from scipy.optimize import linprog"
   ]
  },
  {
   "cell_type": "code",
   "execution_count": 72,
   "metadata": {},
   "outputs": [],
   "source": [
    "A = np.array([[1,0],[2,3],[1,1],[-1,0],[0,-1]])"
   ]
  },
  {
   "cell_type": "code",
   "execution_count": 73,
   "metadata": {},
   "outputs": [],
   "source": [
    "b=np.array([16,19,8,0,0])"
   ]
  },
  {
   "cell_type": "code",
   "execution_count": 74,
   "metadata": {},
   "outputs": [],
   "source": [
    "c=np.array([-5,-7])"
   ]
  },
  {
   "cell_type": "code",
   "execution_count": 75,
   "metadata": {},
   "outputs": [],
   "source": [
    "res = linprog(c,A_ub=A,b_ub=b)"
   ]
  },
  {
   "cell_type": "code",
   "execution_count": 77,
   "metadata": {},
   "outputs": [
    {
     "name": "stdout",
     "output_type": "stream",
     "text": [
      "optimal value: 46.0 \n",
      "x values :  [5. 3.] \n",
      "Number of iterations performed: 4 \n",
      "Status : Optimization terminated successfully.\n"
     ]
    }
   ],
   "source": [
    "# Print result\n",
    "print(\"optimal value:\", round(res.fun*-1, ndigits=2), \n",
    "     \"\\nx values : \", res.x,\n",
    "     \"\\nNumber of iterations performed:\", res.nit,\n",
    "     \"\\nStatus :\", res.message)"
   ]
  },
  {
   "cell_type": "code",
   "execution_count": null,
   "metadata": {},
   "outputs": [],
   "source": []
  }
 ],
 "metadata": {
  "kernelspec": {
   "display_name": "Python 3",
   "language": "python",
   "name": "python3"
  },
  "language_info": {
   "codemirror_mode": {
    "name": "ipython",
    "version": 3
   },
   "file_extension": ".py",
   "mimetype": "text/x-python",
   "name": "python",
   "nbconvert_exporter": "python",
   "pygments_lexer": "ipython3",
   "version": "3.7.3"
  }
 },
 "nbformat": 4,
 "nbformat_minor": 2
}
