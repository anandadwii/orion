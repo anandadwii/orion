{
 "cells": [
  {
   "cell_type": "markdown",
   "metadata": {},
   "source": [
    "# Merge Sort \n",
    "21, 5, 9, 16, 30, 7"
   ]
  },
  {
   "cell_type": "code",
   "execution_count": 15,
   "metadata": {},
   "outputs": [
    {
     "name": "stdout",
     "output_type": "stream",
     "text": [
      "List sebelum di sort :  [21, 5, 9, 16, 30, 7]\n",
      "List setelah di sort :  [5, 7, 9, 16, 21, 30]\n"
     ]
    }
   ],
   "source": [
    "def mergeSort(myList):\n",
    "    #ini if buat nyetop rekursif, ntar jadi infinite yg ada\n",
    "    if len(myList) > 1:\n",
    "        # divide dulu\n",
    "        mid = len(myList) // 2\n",
    "        left = myList[:mid]\n",
    "        right = myList[mid:]\n",
    "\n",
    "        # rekursif\n",
    "        mergeSort(left)\n",
    "        mergeSort(right)\n",
    "\n",
    "        # i buat nyimpen index left\n",
    "        # j buat nyimpen index right\n",
    "        i = 0\n",
    "        j = 0\n",
    "        \n",
    "        # index buat angka yg udah diadu\n",
    "        k = 0\n",
    "        \n",
    "        #ngadu time, while buat ngadu otomatis\n",
    "        \n",
    "        while i < len(left) and j < len(right):\n",
    "            #kiri adu ama yg kanan\n",
    "            \n",
    "            if left[i] < right[j]: #kalo mao diurutin ke yg gede, ganti jadi >\n",
    "              # simpen value ke k\n",
    "              myList[k] = left[i]\n",
    "              # pindah ke angka lain \n",
    "              i += 1\n",
    "            else:\n",
    "                myList[k] = right[j]\n",
    "                j += 1\n",
    "            # buat nyimpen value ke k\n",
    "            k += 1\n",
    "\n",
    "        # misal index i udah abis tapi j masih ada, ntar yg di j lgsg masuk ke k\n",
    "        while i < len(left):\n",
    "            myList[k] = left[i]\n",
    "            i += 1\n",
    "            k += 1\n",
    "\n",
    "        while j < len(right):\n",
    "            myList[k]=right[j]\n",
    "            j += 1\n",
    "            k += 1\n",
    "\n",
    "myList = [21,5,9,16,30,7]\n",
    "print(\"List sebelum di sort : \",myList)\n",
    "mergeSort(myList)\n",
    "print(\"List setelah di sort : \",myList)"
   ]
  },
  {
   "cell_type": "markdown",
   "metadata": {},
   "source": [
    "# Quick Sort\n",
    "17, 12, 57, 8, 16, 25"
   ]
  },
  {
   "cell_type": "code",
   "execution_count": 14,
   "metadata": {},
   "outputs": [
    {
     "name": "stdout",
     "output_type": "stream",
     "text": [
      "sebelum disusun :  [17, 12, 57, 8, 16, 25]\n",
      "setelah disusun menjadi :  [8, 12, 16, 17, 25, 57]\n"
     ]
    }
   ],
   "source": [
    "#definisiin cara divide \n",
    "def partition(arr, left, right):\n",
    "    # left index awal, right index akhir\n",
    "    i = (left-1)         # buat index yg kecil\n",
    "    pivot = arr[right]     # pivot\n",
    " \n",
    "    for j in range(left, right):\n",
    "        \n",
    "        #ngadu time\n",
    "        # adu angka ama pivot, pake <= biar aman kalo pivot diadu pivot\n",
    "        if arr[j] <= pivot:\n",
    " \n",
    "            # buat naikin index trus tuker, alasan i=(left-1) biar pas naik jadi 0, bukan 1\n",
    "            i +=1\n",
    "            arr[i], arr[j] = arr[j], arr[i]\n",
    "\n",
    "    \n",
    "    arr[i+1], arr[right] = arr[right], arr[i+1]\n",
    "    return (i+1)\n",
    " \n",
    "#definisiin cara quick sort \n",
    "def quickSort(arr, left, right):\n",
    "    if len(arr) == 1:\n",
    "        return arr\n",
    "    if left < right:\n",
    " \n",
    "        #pi buat divide partisi antara left dan right\n",
    "        pi = partition(arr, left, right)\n",
    " \n",
    "        # Separately sort elements before\n",
    "        # partition and after partition\n",
    "        quickSort(arr, left, pi-1)\n",
    "        quickSort(arr, pi+1, right)\n",
    " \n",
    " \n",
    "\n",
    "arr = [17,12,57,8,16,25]\n",
    "print(\"sebelum disusun : \",arr)\n",
    "quickSort(arr, 0, len(arr)-1)\n",
    "print(\"setelah disusun menjadi : \",arr)\n"
   ]
  },
  {
   "cell_type": "code",
   "execution_count": null,
   "metadata": {},
   "outputs": [],
   "source": []
  }
 ],
 "metadata": {
  "kernelspec": {
   "display_name": "Python 3",
   "language": "python",
   "name": "python3"
  },
  "language_info": {
   "codemirror_mode": {
    "name": "ipython",
    "version": 3
   },
   "file_extension": ".py",
   "mimetype": "text/x-python",
   "name": "python",
   "nbconvert_exporter": "python",
   "pygments_lexer": "ipython3",
   "version": "3.7.3"
  }
 },
 "nbformat": 4,
 "nbformat_minor": 2
}
